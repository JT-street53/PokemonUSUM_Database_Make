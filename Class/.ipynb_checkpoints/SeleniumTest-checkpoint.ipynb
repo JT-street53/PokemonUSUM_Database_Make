{
 "cells": [
  {
   "cell_type": "code",
   "execution_count": 1,
   "metadata": {
    "collapsed": true
   },
   "outputs": [],
   "source": [
    "from selenium import webdriver\n",
    "import bean\n",
    "import time\n",
    "from selenium import webdriver\n",
    "from selenium.webdriver.common.by import By\n",
    "from selenium.webdriver.support.ui import WebDriverWait\n",
    "from selenium.webdriver.support import expected_conditions as EC"
   ]
  },
  {
   "cell_type": "code",
   "execution_count": 2,
   "metadata": {
    "collapsed": true
   },
   "outputs": [],
   "source": [
    "# chromedriverのpath\n",
    "executable_path = \"/usr/local/bin/chromedriver\"\n",
    "driver = webdriver.Chrome(executable_path)"
   ]
  },
  {
   "cell_type": "code",
   "execution_count": 3,
   "metadata": {
    "collapsed": true
   },
   "outputs": [],
   "source": [
    "# 取得まで5秒は最低でも待つよう支持\n",
    "driver.implicitly_wait(1)"
   ]
  },
  {
   "cell_type": "code",
   "execution_count": null,
   "metadata": {
    "collapsed": true
   },
   "outputs": [],
   "source": []
  },
  {
   "cell_type": "code",
   "execution_count": 4,
   "metadata": {
    "collapsed": true
   },
   "outputs": [],
   "source": [
    "driver.get(\"http://www.pokemon-gl.com\")\n",
    "time.sleep(1)"
   ]
  },
  {
   "cell_type": "code",
   "execution_count": 5,
   "metadata": {
    "collapsed": true
   },
   "outputs": [],
   "source": [
    "# go to フシギダネ\n",
    "driver.find_element_by_link_text(u\"日本語\").click()\n",
    "driver.get(\"https://3ds.pokemon-gl.com/battle/usum/\")\n",
    "time.sleep(1)\n",
    "driver.find_element_by_link_text(u\"ポケモンを選ぶ\").click()\n",
    "driver.find_element_by_link_text(u\"ずかん番号順\").click()\n",
    "driver.find_element_by_xpath(\"(//img[contains(@src,'https://n-3ds-pgl-contents.pokemon-gl.com/share/images/spacer.png')])[51]\").click()"
   ]
  },
  {
   "cell_type": "code",
   "execution_count": null,
   "metadata": {
    "collapsed": true
   },
   "outputs": [],
   "source": []
  },
  {
   "cell_type": "code",
   "execution_count": 6,
   "metadata": {
    "collapsed": true
   },
   "outputs": [],
   "source": [
    "def getElementByXpath(driver, xpath, waitingTime):\n",
    "    wait = WebDriverWait(driver, waitingTime)\n",
    "    try:\n",
    "        element = wait.until(EC.presence_of_element_located((By.XPATH, xpath)))\n",
    "    except:\n",
    "        element = None\n",
    "    return element"
   ]
  },
  {
   "cell_type": "code",
   "execution_count": 7,
   "metadata": {
    "collapsed": true
   },
   "outputs": [],
   "source": [
    "def getElementsByXpath(driver, xpath, waitingTime):\n",
    "    wait = WebDriverWait(driver, waitingTime)\n",
    "    try:\n",
    "        element = wait.until(EC.presence_of_all_elements_located((By.XPATH, xpath)))\n",
    "    except:\n",
    "        element = None\n",
    "    return element"
   ]
  },
  {
   "cell_type": "code",
   "execution_count": 8,
   "metadata": {
    "collapsed": true
   },
   "outputs": [],
   "source": [
    "def clickElementByXpath(driver, xpath, waitingTime):\n",
    "    wait = WebDriverWait(driver, waitingTime)\n",
    "    try:\n",
    "        element = wait.until(EC.presence_of_element_located((By.XPATH, xpath)))\n",
    "        element.click()\n",
    "    except:\n",
    "        print(\"afdnoa\")\n",
    "    return"
   ]
  },
  {
   "cell_type": "code",
   "execution_count": 9,
   "metadata": {
    "collapsed": true
   },
   "outputs": [],
   "source": [
    "def clickElementByLinkText(driver, word, waitingTime):\n",
    "    wait = WebDriverWait(driver, waitingTime)\n",
    "    try:\n",
    "        element = wait.until(EC.presence_of_element_located((By.LINK_TEXT, word)))\n",
    "        element.click()\n",
    "    except:\n",
    "        return"
   ]
  },
  {
   "cell_type": "code",
   "execution_count": 10,
   "metadata": {
    "collapsed": true
   },
   "outputs": [],
   "source": [
    "def getElementByXpath(driver, xpath, waitingTime):\n",
    "    wait = WebDriverWait(driver, waitingTime)\n",
    "    try:\n",
    "        element = wait.until(EC.presence_of_element_located((By.XPATH, xpath)))\n",
    "    except:\n",
    "        element = None\n",
    "    return element"
   ]
  },
  {
   "cell_type": "code",
   "execution_count": 11,
   "metadata": {
    "collapsed": true
   },
   "outputs": [],
   "source": [
    "def checkIfDataExists(driver, xpath):\n",
    "    check = None\n",
    "    try:\n",
    "        checkElement = getElementByXpath(driver, xpath, 5)\n",
    "        if checkElement.text == \"表示できるデータがありません\":\n",
    "            check = False\n",
    "        else:\n",
    "            check = True\n",
    "    except:\n",
    "        print(\"error occured at Class.scrapePGL.checkIfDataExists: No element\")\n",
    "    return check"
   ]
  },
  {
   "cell_type": "code",
   "execution_count": 12,
   "metadata": {
    "collapsed": true
   },
   "outputs": [],
   "source": [
    "checkElement = getElementByXpath(driver, '//*[@id=\"pokemon-detail-losing\"]/div[1]', 5)"
   ]
  },
  {
   "cell_type": "code",
   "execution_count": 13,
   "metadata": {},
   "outputs": [
    {
     "data": {
      "text/plain": [
       "False"
      ]
     },
     "execution_count": 13,
     "metadata": {},
     "output_type": "execute_result"
    }
   ],
   "source": [
    "checkIfDataExists(driver)"
   ]
  },
  {
   "cell_type": "code",
   "execution_count": null,
   "metadata": {
    "collapsed": true
   },
   "outputs": [],
   "source": []
  },
  {
   "cell_type": "code",
   "execution_count": 26,
   "metadata": {
    "collapsed": true
   },
   "outputs": [],
   "source": [
    "# open 性格 accordion\n",
    "driver.find_element_by_xpath(\"//div[@id='pokemon-detail-party']/div/div[3]/h5\").click()"
   ]
  },
  {
   "cell_type": "code",
   "execution_count": 25,
   "metadata": {
    "collapsed": true
   },
   "outputs": [],
   "source": [
    "# 性格リストを取得\n",
    "natureList = [[None, None, None], [None, None, None], [None, None, None], [None, None, None], [None, None, None], [None, None, None], [None, None, None], [None, None, None], [None, None, None], [None, None, None]]\n",
    "for i in range(len(moveList)):\n",
    "    check = True\n",
    "    try:\n",
    "        tmp1 = driver.find_element_by_xpath('//*[@id=\"pokemon-detail-party\"]/div[1]/div[3]/div/table/tbody/tr[' + str(i + 1) + ']/td[1]')\n",
    "        tmp2 = driver.find_element_by_xpath('//*[@id=\"pokemon-detail-party\"]/div[1]/div[3]/div/table/tbody/tr[' + str(i + 1) + ']/td[2]')\n",
    "        tmp3 = driver.find_element_by_xpath('//*[@id=\"pokemon-detail-party\"]/div[1]/div[3]/div/table/tbody/tr[' + str(i + 1) + ']/td[3]')\n",
    "    except:\n",
    "        check = False\n",
    "    if check:\n",
    "        natureList[i][0] = int(tmp1.text)\n",
    "        natureList[i][1] = tmp2.text\n",
    "        natureList[i][2] = float(tmp3.text.replace(\"%\", \"\"))"
   ]
  },
  {
   "cell_type": "code",
   "execution_count": null,
   "metadata": {
    "collapsed": true
   },
   "outputs": [],
   "source": []
  },
  {
   "cell_type": "code",
   "execution_count": null,
   "metadata": {
    "collapsed": true
   },
   "outputs": [],
   "source": [
    "# open 持ち物 accordion\n",
    "driver.find_element_by_xpath(\"//div[@id='pokemon-detail-party']/div/div[4]/h5\").click()"
   ]
  },
  {
   "cell_type": "code",
   "execution_count": null,
   "metadata": {
    "collapsed": true
   },
   "outputs": [],
   "source": [
    "# 持ち物リストを取得\n",
    "itemList = [[None, None, None], [None, None, None], [None, None, None], [None, None, None], [None, None, None], [None, None, None], [None, None, None], [None, None, None], [None, None, None], [None, None, None]]\n",
    "for i in range(len(moveList)):\n",
    "    check = True\n",
    "    try:\n",
    "        tmp1 = driver.find_element_by_xpath('//*[@id=\"pokemon-detail-party\"]/div[1]/div[4]/div/table/tbody/tr[' + str(i + 1) + ']/td[1]')\n",
    "        tmp2 = driver.find_element_by_xpath('//*[@id=\"pokemon-detail-party\"]/div[1]/div[4]/div/table/tbody/tr[' + str(i + 1) + ']/td[2]')\n",
    "        tmp3 = driver.find_element_by_xpath('//*[@id=\"pokemon-detail-party\"]/div[1]/div[4]/div/table/tbody/tr[' + str(i + 1) + ']/td[3]')\n",
    "    except:\n",
    "        check = False\n",
    "    if check:\n",
    "        itemList[i][0] = int(tmp1.text)\n",
    "        itemList[i][1] = tmp2.text\n",
    "        itemList[i][2] = float(tmp3.text.replace(\"%\", \"\"))"
   ]
  },
  {
   "cell_type": "code",
   "execution_count": null,
   "metadata": {
    "collapsed": true
   },
   "outputs": [],
   "source": []
  },
  {
   "cell_type": "code",
   "execution_count": null,
   "metadata": {
    "collapsed": true
   },
   "outputs": [],
   "source": [
    "# 倒した時タブを開く\n",
    "driver.find_element_by_link_text(u\"倒した時\").click()"
   ]
  },
  {
   "cell_type": "code",
   "execution_count": null,
   "metadata": {
    "collapsed": true
   },
   "outputs": [],
   "source": []
  },
  {
   "cell_type": "code",
   "execution_count": null,
   "metadata": {
    "collapsed": true
   },
   "outputs": [],
   "source": []
  },
  {
   "cell_type": "code",
   "execution_count": null,
   "metadata": {
    "collapsed": true
   },
   "outputs": [],
   "source": [
    "# 倒された時タブを開く\n",
    "driver.find_element_by_link_text(u\"倒された時\").click()"
   ]
  },
  {
   "cell_type": "code",
   "execution_count": null,
   "metadata": {
    "collapsed": true
   },
   "outputs": [],
   "source": [
    "driver.find_element_by_xpath('//*[@id=\"pokemon-detail-winning\"]/div[1]/div/table/tbody/tr[1]/td[1]')"
   ]
  },
  {
   "cell_type": "code",
   "execution_count": null,
   "metadata": {
    "collapsed": true
   },
   "outputs": [],
   "source": []
  },
  {
   "cell_type": "code",
   "execution_count": null,
   "metadata": {
    "collapsed": true
   },
   "outputs": [],
   "source": [
    "# 紐づけ\n",
    "# 図鑑番号\n",
    "dexNumElement = driver.find_element_by_xpath('//*[@id=\"pokemon-detail-common\"]/div[2]')\n",
    "if dexNumElement != None:\n",
    "    dexNum = dexNumElement.text\n",
    "# タイプ\n",
    "type1Element = driver.find_element_by_xpath('//*[@id=\"pokemon-detail-common\"]/ul/li[1]')\n",
    "type2Element = driver.find_element_by_xpath('//*[@id=\"pokemon-detail-common\"]/ul/li[2]')\n",
    "if type1Element != None:\n",
    "    type1 = type1Element.text\n",
    "if type2Element != None:\n",
    "    type2 = type2Element.text"
   ]
  },
  {
   "cell_type": "code",
   "execution_count": null,
   "metadata": {
    "collapsed": true
   },
   "outputs": [],
   "source": []
  },
  {
   "cell_type": "code",
   "execution_count": null,
   "metadata": {
    "collapsed": true
   },
   "outputs": [],
   "source": []
  },
  {
   "cell_type": "code",
   "execution_count": null,
   "metadata": {
    "collapsed": true
   },
   "outputs": [],
   "source": []
  },
  {
   "cell_type": "code",
   "execution_count": null,
   "metadata": {
    "collapsed": true
   },
   "outputs": [],
   "source": []
  },
  {
   "cell_type": "code",
   "execution_count": 10,
   "metadata": {
    "collapsed": true
   },
   "outputs": [],
   "source": [
    "# go to next pokemon\n",
    "driver.find_element_by_xpath(\"//div[@id='battle-report-pokemon-detail']/div[2]/div[2]/p[2]\").click()\n",
    "time.sleep(1)"
   ]
  },
  {
   "cell_type": "code",
   "execution_count": null,
   "metadata": {
    "collapsed": true
   },
   "outputs": [],
   "source": []
  },
  {
   "cell_type": "code",
   "execution_count": 13,
   "metadata": {
    "collapsed": true
   },
   "outputs": [],
   "source": [
    "driver.quit()"
   ]
  },
  {
   "cell_type": "code",
   "execution_count": null,
   "metadata": {
    "collapsed": true
   },
   "outputs": [],
   "source": []
  },
  {
   "cell_type": "code",
   "execution_count": 14,
   "metadata": {
    "collapsed": true
   },
   "outputs": [],
   "source": [
    "a = None"
   ]
  },
  {
   "cell_type": "code",
   "execution_count": 15,
   "metadata": {
    "collapsed": true
   },
   "outputs": [],
   "source": [
    "if a:\n",
    "    print(\"iafho\")"
   ]
  },
  {
   "cell_type": "code",
   "execution_count": null,
   "metadata": {
    "collapsed": true
   },
   "outputs": [],
   "source": []
  },
  {
   "cell_type": "code",
   "execution_count": null,
   "metadata": {
    "collapsed": true
   },
   "outputs": [],
   "source": []
  }
 ],
 "metadata": {
  "kernelspec": {
   "display_name": "Python 3",
   "language": "python",
   "name": "python3"
  },
  "language_info": {
   "codemirror_mode": {
    "name": "ipython",
    "version": 3
   },
   "file_extension": ".py",
   "mimetype": "text/x-python",
   "name": "python",
   "nbconvert_exporter": "python",
   "pygments_lexer": "ipython3",
   "version": "3.6.3"
  }
 },
 "nbformat": 4,
 "nbformat_minor": 2
}
