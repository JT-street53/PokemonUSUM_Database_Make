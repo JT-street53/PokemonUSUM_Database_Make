{
 "cells": [
  {
   "cell_type": "code",
   "execution_count": 1,
   "metadata": {},
   "outputs": [],
   "source": [
    "import bean\n",
    "import re\n",
    "import mysql.connector\n",
    "import os\n",
    "import requests\n",
    "from bs4 import BeautifulSoup\n",
    "import entities"
   ]
  },
  {
   "cell_type": "code",
   "execution_count": 2,
   "metadata": {},
   "outputs": [],
   "source": [
    "def getSoupFromURL(url):\n",
    "    response = requests.get(url)\n",
    "    soup = BeautifulSoup(response.content, \"html.parser\")\n",
    "    return soup"
   ]
  },
  {
   "cell_type": "code",
   "execution_count": 3,
   "metadata": {},
   "outputs": [],
   "source": [
    "soup1 = getSoupFromURL(\"http://pokemon.wikia.com/wiki/Basculin\")\n",
    "soup2 = getSoupFromURL(\"http://pokemon.wikia.com/wiki/Rotom\")"
   ]
  },
  {
   "cell_type": "code",
   "execution_count": 71,
   "metadata": {},
   "outputs": [
    {
     "name": "stdout",
     "output_type": "stream",
     "text": [
      "<noscript><img alt=\"Rotom XY\" class=\"\" data-image-key=\"Rotom_XY.gif\" data-image-name=\"Rotom XY.gif\" height=\"70\" src=\"https://vignette.wikia.nocookie.net/pokemon/images/6/6a/Rotom_XY.gif/revision/latest?cb=20150201054016\" width=\"105\"/></noscript>\n",
      "<noscript><img alt=\"Rotom XY\" class=\"\" data-image-key=\"Rotom_XY.gif\" data-image-name=\"Rotom XY.gif\" height=\"70\" src=\"https://vignette.wikia.nocookie.net/pokemon/images/6/6a/Rotom_XY.gif/revision/latest?cb=20150201054016\" width=\"105\"/></noscript>\n"
     ]
    }
   ],
   "source": [
    "for atag in soup2.find_all(\"a\",{\"class\":\"image image-thumbnail\"}):\n",
    "    if atag.find(\"noscript\") != None:\n",
    "        if atag.find(\"noscript\").find(\"img\").get(\"src\") .find(\"https://vignette.wikia.nocookie.net/pokemon/images/6/6a\") > -1:\n",
    "            print(atag.find(\"noscript\"))"
   ]
  },
  {
   "cell_type": "code",
   "execution_count": null,
   "metadata": {},
   "outputs": [],
   "source": []
  },
  {
   "cell_type": "code",
   "execution_count": 30,
   "metadata": {},
   "outputs": [
    {
     "data": {
      "text/plain": [
       "<table cellpadding=\"1\" cellspacing=\"2\" style=\"margin:auto; padding:1px; width:100%; border:2px solid #5C87ED; background:#DCE3F5; color:#000; text-align:center;\">\n",
       "<tr>\n",
       "<th colspan=\"10\" style=\"border:1px solid #5C87ED; background:#9BB8FE; font-size:12pt;\"><b>Version</b>\n",
       "</th></tr>\n",
       "<tr>\n",
       "<th style=\"background-color:black; color:black;\"><a href=\"/wiki/Pok%C3%A9mon_Black_and_White_Version\" title=\"Pokémon Black and White Version\"><span style=\"color:white;\">Black</span></a>\n",
       "</th><th style=\"background-color:#F5F5F5; color:black;\"><a href=\"/wiki/Pok%C3%A9mon_Black_and_White_Version\" title=\"Pokémon Black and White Version\"><span style=\"color:black;\">White</span></a>\n",
       "</th><th style=\"background-color:black; color:black;\"><a href=\"/wiki/Pok%C3%A9mon_Black_and_White_Version_2\" title=\"Pokémon Black and White Version 2\"><span style=\"color:white;\">Black 2</span></a>\n",
       "</th><th style=\"background-color:#F5F5F5; color:black;\"><a href=\"/wiki/Pok%C3%A9mon_Black_and_White_Version_2\" title=\"Pokémon Black and White Version 2\"><span style=\"color:black;\">White 2</span></a>\n",
       "</th><th style=\"background-color:#5C87ED; color:black;\">\n",
       "</th><th style=\"background-color:#5C87ED; color:black;\">Back\n",
       "</th></tr>\n",
       "<tr>\n",
       "<td colspan=\"2\"><a class=\"image image-thumbnail\" href=\"https://vignette.wikia.nocookie.net/pokemon/images/2/23/Basculin-Red-Striped_BW.gif/revision/latest?cb=20120627035505\"><img alt=\"Basculin-Red-Striped BW\" class=\"lzy lzyPlcHld \" data-image-key=\"Basculin-Red-Striped_BW.gif\" data-image-name=\"Basculin-Red-Striped BW.gif\" data-src=\"https://vignette.wikia.nocookie.net/pokemon/images/2/23/Basculin-Red-Striped_BW.gif/revision/latest?cb=20120627035505\" height=\"48\" onload=\"if(typeof ImgLzy==='object'){ImgLzy.load(this)}\" src=\"data:image/gif;base64,R0lGODlhAQABAIABAAAAAP///yH5BAEAAAEALAAAAAABAAEAQAICTAEAOw%3D%3D\" width=\"52\"/><noscript><img alt=\"Basculin-Red-Striped BW\" class=\"\" data-image-key=\"Basculin-Red-Striped_BW.gif\" data-image-name=\"Basculin-Red-Striped BW.gif\" height=\"48\" src=\"https://vignette.wikia.nocookie.net/pokemon/images/2/23/Basculin-Red-Striped_BW.gif/revision/latest?cb=20120627035505\" width=\"52\"/></noscript></a>\n",
       "</td><td colspan=\"2\"><a class=\"image image-thumbnail\" href=\"https://vignette.wikia.nocookie.net/pokemon/images/2/23/Basculin-Red-Striped_BW.gif/revision/latest?cb=20120627035505\"><img alt=\"Basculin-Red-Striped BW\" class=\"lzy lzyPlcHld \" data-image-key=\"Basculin-Red-Striped_BW.gif\" data-image-name=\"Basculin-Red-Striped BW.gif\" data-src=\"https://vignette.wikia.nocookie.net/pokemon/images/2/23/Basculin-Red-Striped_BW.gif/revision/latest?cb=20120627035505\" height=\"48\" onload=\"if(typeof ImgLzy==='object'){ImgLzy.load(this)}\" src=\"data:image/gif;base64,R0lGODlhAQABAIABAAAAAP///yH5BAEAAAEALAAAAAABAAEAQAICTAEAOw%3D%3D\" width=\"52\"/><noscript><img alt=\"Basculin-Red-Striped BW\" class=\"\" data-image-key=\"Basculin-Red-Striped_BW.gif\" data-image-name=\"Basculin-Red-Striped BW.gif\" height=\"48\" src=\"https://vignette.wikia.nocookie.net/pokemon/images/2/23/Basculin-Red-Striped_BW.gif/revision/latest?cb=20120627035505\" width=\"52\"/></noscript></a>\n",
       "</td><td>\n",
       "</td><td><a class=\"image image-thumbnail\" href=\"https://vignette.wikia.nocookie.net/pokemon/images/5/5e/BasculinRedBackBW.gif/revision/latest?cb=20140812203330\"><img alt=\"BasculinRedBackBW\" class=\"lzy lzyPlcHld \" data-image-key=\"BasculinRedBackBW.gif\" data-image-name=\"BasculinRedBackBW.gif\" data-src=\"https://vignette.wikia.nocookie.net/pokemon/images/5/5e/BasculinRedBackBW.gif/revision/latest?cb=20140812203330\" height=\"49\" onload=\"if(typeof ImgLzy==='object'){ImgLzy.load(this)}\" src=\"data:image/gif;base64,R0lGODlhAQABAIABAAAAAP///yH5BAEAAAEALAAAAAABAAEAQAICTAEAOw%3D%3D\" width=\"42\"/><noscript><img alt=\"BasculinRedBackBW\" class=\"\" data-image-key=\"BasculinRedBackBW.gif\" data-image-name=\"BasculinRedBackBW.gif\" height=\"49\" src=\"https://vignette.wikia.nocookie.net/pokemon/images/5/5e/BasculinRedBackBW.gif/revision/latest?cb=20140812203330\" width=\"42\"/></noscript></a>\n",
       "</td></tr>\n",
       "<tr>\n",
       "<td colspan=\"2\"><a class=\"image image-thumbnail\" href=\"https://vignette.wikia.nocookie.net/pokemon/images/e/e7/Basculin-Blue-Striped_BW.gif/revision/latest?cb=20120627035546\"><img alt=\"Basculin-Blue-Striped BW\" class=\"lzy lzyPlcHld \" data-image-key=\"Basculin-Blue-Striped_BW.gif\" data-image-name=\"Basculin-Blue-Striped BW.gif\" data-src=\"https://vignette.wikia.nocookie.net/pokemon/images/e/e7/Basculin-Blue-Striped_BW.gif/revision/latest?cb=20120627035546\" height=\"49\" onload=\"if(typeof ImgLzy==='object'){ImgLzy.load(this)}\" src=\"data:image/gif;base64,R0lGODlhAQABAIABAAAAAP///yH5BAEAAAEALAAAAAABAAEAQAICTAEAOw%3D%3D\" width=\"56\"/><noscript><img alt=\"Basculin-Blue-Striped BW\" class=\"\" data-image-key=\"Basculin-Blue-Striped_BW.gif\" data-image-name=\"Basculin-Blue-Striped BW.gif\" height=\"49\" src=\"https://vignette.wikia.nocookie.net/pokemon/images/e/e7/Basculin-Blue-Striped_BW.gif/revision/latest?cb=20120627035546\" width=\"56\"/></noscript></a>\n",
       "</td><td colspan=\"2\"><a class=\"image image-thumbnail\" href=\"https://vignette.wikia.nocookie.net/pokemon/images/e/e7/Basculin-Blue-Striped_BW.gif/revision/latest?cb=20120627035546\"><img alt=\"Basculin-Blue-Striped BW\" class=\"lzy lzyPlcHld \" data-image-key=\"Basculin-Blue-Striped_BW.gif\" data-image-name=\"Basculin-Blue-Striped BW.gif\" data-src=\"https://vignette.wikia.nocookie.net/pokemon/images/e/e7/Basculin-Blue-Striped_BW.gif/revision/latest?cb=20120627035546\" height=\"49\" onload=\"if(typeof ImgLzy==='object'){ImgLzy.load(this)}\" src=\"data:image/gif;base64,R0lGODlhAQABAIABAAAAAP///yH5BAEAAAEALAAAAAABAAEAQAICTAEAOw%3D%3D\" width=\"56\"/><noscript><img alt=\"Basculin-Blue-Striped BW\" class=\"\" data-image-key=\"Basculin-Blue-Striped_BW.gif\" data-image-name=\"Basculin-Blue-Striped BW.gif\" height=\"49\" src=\"https://vignette.wikia.nocookie.net/pokemon/images/e/e7/Basculin-Blue-Striped_BW.gif/revision/latest?cb=20120627035546\" width=\"56\"/></noscript></a>\n",
       "</td><td>\n",
       "</td><td><a class=\"image image-thumbnail\" href=\"https://vignette.wikia.nocookie.net/pokemon/images/d/d1/BasculinBlueBackBW.gif/revision/latest?cb=20140812203331\"><img alt=\"BasculinBlueBackBW\" class=\"lzy lzyPlcHld \" data-image-key=\"BasculinBlueBackBW.gif\" data-image-name=\"BasculinBlueBackBW.gif\" data-src=\"https://vignette.wikia.nocookie.net/pokemon/images/d/d1/BasculinBlueBackBW.gif/revision/latest?cb=20140812203331\" height=\"48\" onload=\"if(typeof ImgLzy==='object'){ImgLzy.load(this)}\" src=\"data:image/gif;base64,R0lGODlhAQABAIABAAAAAP///yH5BAEAAAEALAAAAAABAAEAQAICTAEAOw%3D%3D\" width=\"43\"/><noscript><img alt=\"BasculinBlueBackBW\" class=\"\" data-image-key=\"BasculinBlueBackBW.gif\" data-image-name=\"BasculinBlueBackBW.gif\" height=\"48\" src=\"https://vignette.wikia.nocookie.net/pokemon/images/d/d1/BasculinBlueBackBW.gif/revision/latest?cb=20140812203331\" width=\"43\"/></noscript></a>\n",
       "</td></tr>\n",
       "<tr>\n",
       "<td colspan=\"2\"><a class=\"image image-thumbnail\" href=\"https://vignette.wikia.nocookie.net/pokemon/images/a/a5/BasculinRedShinyBW.gif/revision/latest?cb=20140812203331\"><img alt=\"BasculinRedShinyBW\" class=\"lzy lzyPlcHld \" data-image-key=\"BasculinRedShinyBW.gif\" data-image-name=\"BasculinRedShinyBW.gif\" data-src=\"https://vignette.wikia.nocookie.net/pokemon/images/a/a5/BasculinRedShinyBW.gif/revision/latest?cb=20140812203331\" height=\"49\" onload=\"if(typeof ImgLzy==='object'){ImgLzy.load(this)}\" src=\"data:image/gif;base64,R0lGODlhAQABAIABAAAAAP///yH5BAEAAAEALAAAAAABAAEAQAICTAEAOw%3D%3D\" width=\"52\"/><noscript><img alt=\"BasculinRedShinyBW\" class=\"\" data-image-key=\"BasculinRedShinyBW.gif\" data-image-name=\"BasculinRedShinyBW.gif\" height=\"49\" src=\"https://vignette.wikia.nocookie.net/pokemon/images/a/a5/BasculinRedShinyBW.gif/revision/latest?cb=20140812203331\" width=\"52\"/></noscript></a>\n",
       "</td><td colspan=\"2\"><a class=\"image image-thumbnail\" href=\"https://vignette.wikia.nocookie.net/pokemon/images/a/a5/BasculinRedShinyBW.gif/revision/latest?cb=20140812203331\"><img alt=\"BasculinRedShinyBW\" class=\"lzy lzyPlcHld \" data-image-key=\"BasculinRedShinyBW.gif\" data-image-name=\"BasculinRedShinyBW.gif\" data-src=\"https://vignette.wikia.nocookie.net/pokemon/images/a/a5/BasculinRedShinyBW.gif/revision/latest?cb=20140812203331\" height=\"49\" onload=\"if(typeof ImgLzy==='object'){ImgLzy.load(this)}\" src=\"data:image/gif;base64,R0lGODlhAQABAIABAAAAAP///yH5BAEAAAEALAAAAAABAAEAQAICTAEAOw%3D%3D\" width=\"52\"/><noscript><img alt=\"BasculinRedShinyBW\" class=\"\" data-image-key=\"BasculinRedShinyBW.gif\" data-image-name=\"BasculinRedShinyBW.gif\" height=\"49\" src=\"https://vignette.wikia.nocookie.net/pokemon/images/a/a5/BasculinRedShinyBW.gif/revision/latest?cb=20140812203331\" width=\"52\"/></noscript></a>\n",
       "</td><td>\n",
       "</td><td><a class=\"image image-thumbnail\" href=\"https://vignette.wikia.nocookie.net/pokemon/images/7/76/BasculinRedBackShinyBW.gif/revision/latest?cb=20140812203333\"><img alt=\"BasculinRedBackShinyBW\" class=\"lzy lzyPlcHld \" data-image-key=\"BasculinRedBackShinyBW.gif\" data-image-name=\"BasculinRedBackShinyBW.gif\" data-src=\"https://vignette.wikia.nocookie.net/pokemon/images/7/76/BasculinRedBackShinyBW.gif/revision/latest?cb=20140812203333\" height=\"49\" onload=\"if(typeof ImgLzy==='object'){ImgLzy.load(this)}\" src=\"data:image/gif;base64,R0lGODlhAQABAIABAAAAAP///yH5BAEAAAEALAAAAAABAAEAQAICTAEAOw%3D%3D\" width=\"42\"/><noscript><img alt=\"BasculinRedBackShinyBW\" class=\"\" data-image-key=\"BasculinRedBackShinyBW.gif\" data-image-name=\"BasculinRedBackShinyBW.gif\" height=\"49\" src=\"https://vignette.wikia.nocookie.net/pokemon/images/7/76/BasculinRedBackShinyBW.gif/revision/latest?cb=20140812203333\" width=\"42\"/></noscript></a>\n",
       "</td></tr>\n",
       "<tr>\n",
       "<td colspan=\"2\"><a class=\"image image-thumbnail\" href=\"https://vignette.wikia.nocookie.net/pokemon/images/f/f2/BasculinBlueShinyBW.gif/revision/latest?cb=20140812203332\"><img alt=\"BasculinBlueShinyBW\" class=\"lzy lzyPlcHld \" data-image-key=\"BasculinBlueShinyBW.gif\" data-image-name=\"BasculinBlueShinyBW.gif\" data-src=\"https://vignette.wikia.nocookie.net/pokemon/images/f/f2/BasculinBlueShinyBW.gif/revision/latest?cb=20140812203332\" height=\"46\" onload=\"if(typeof ImgLzy==='object'){ImgLzy.load(this)}\" src=\"data:image/gif;base64,R0lGODlhAQABAIABAAAAAP///yH5BAEAAAEALAAAAAABAAEAQAICTAEAOw%3D%3D\" width=\"54\"/><noscript><img alt=\"BasculinBlueShinyBW\" class=\"\" data-image-key=\"BasculinBlueShinyBW.gif\" data-image-name=\"BasculinBlueShinyBW.gif\" height=\"46\" src=\"https://vignette.wikia.nocookie.net/pokemon/images/f/f2/BasculinBlueShinyBW.gif/revision/latest?cb=20140812203332\" width=\"54\"/></noscript></a>\n",
       "</td><td colspan=\"2\"><a class=\"image image-thumbnail\" href=\"https://vignette.wikia.nocookie.net/pokemon/images/f/f2/BasculinBlueShinyBW.gif/revision/latest?cb=20140812203332\"><img alt=\"BasculinBlueShinyBW\" class=\"lzy lzyPlcHld \" data-image-key=\"BasculinBlueShinyBW.gif\" data-image-name=\"BasculinBlueShinyBW.gif\" data-src=\"https://vignette.wikia.nocookie.net/pokemon/images/f/f2/BasculinBlueShinyBW.gif/revision/latest?cb=20140812203332\" height=\"46\" onload=\"if(typeof ImgLzy==='object'){ImgLzy.load(this)}\" src=\"data:image/gif;base64,R0lGODlhAQABAIABAAAAAP///yH5BAEAAAEALAAAAAABAAEAQAICTAEAOw%3D%3D\" width=\"54\"/><noscript><img alt=\"BasculinBlueShinyBW\" class=\"\" data-image-key=\"BasculinBlueShinyBW.gif\" data-image-name=\"BasculinBlueShinyBW.gif\" height=\"46\" src=\"https://vignette.wikia.nocookie.net/pokemon/images/f/f2/BasculinBlueShinyBW.gif/revision/latest?cb=20140812203332\" width=\"54\"/></noscript></a>\n",
       "</td><td>\n",
       "</td><td><a class=\"image image-thumbnail\" href=\"https://vignette.wikia.nocookie.net/pokemon/images/b/bd/BasculinBlueBackShinyBW.gif/revision/latest?cb=20140812203333\"><img alt=\"BasculinBlueBackShinyBW\" class=\"lzy lzyPlcHld \" data-image-key=\"BasculinBlueBackShinyBW.gif\" data-image-name=\"BasculinBlueBackShinyBW.gif\" data-src=\"https://vignette.wikia.nocookie.net/pokemon/images/b/bd/BasculinBlueBackShinyBW.gif/revision/latest?cb=20140812203333\" height=\"48\" onload=\"if(typeof ImgLzy==='object'){ImgLzy.load(this)}\" src=\"data:image/gif;base64,R0lGODlhAQABAIABAAAAAP///yH5BAEAAAEALAAAAAABAAEAQAICTAEAOw%3D%3D\" width=\"43\"/><noscript><img alt=\"BasculinBlueBackShinyBW\" class=\"\" data-image-key=\"BasculinBlueBackShinyBW.gif\" data-image-name=\"BasculinBlueBackShinyBW.gif\" height=\"48\" src=\"https://vignette.wikia.nocookie.net/pokemon/images/b/bd/BasculinBlueBackShinyBW.gif/revision/latest?cb=20140812203333\" width=\"43\"/></noscript></a>\n",
       "</td></tr>\n",
       "<tr>\n",
       "<th style=\"background-color:#2DB8FD;\"><a href=\"/wiki/Pok%C3%A9mon_X_and_Y\" title=\"Pokémon X and Y\"><span style=\"color:black;\">X</span></a>\n",
       "</th><th style=\"background-color:#D4233F;\"><a href=\"/wiki/Pok%C3%A9mon_X_and_Y\" title=\"Pokémon X and Y\"><span style=\"color:black;\">Y</span></a>\n",
       "</th><th style=\"background-color:#8B0000;\"><a href=\"/wiki/Pok%C3%A9mon_Omega_Ruby_and_Alpha_Sapphire\" title=\"Pokémon Omega Ruby and Alpha Sapphire\"><span style=\"color:black;\">Omega Ruby</span></a>\n",
       "</th><th style=\"background-color:#00008B;\"><a href=\"/wiki/Pok%C3%A9mon_Omega_Ruby_and_Alpha_Sapphire\" title=\"Pokémon Omega Ruby and Alpha Sapphire\"><span style=\"color:black;\">Alpha Sapphire</span></a>\n",
       "</th><th style=\"background-color:#5C87ED;\">\n",
       "</th><th style=\"background-color:#5C87ED; color:black;\">Back\n",
       "</th></tr>\n",
       "<tr>\n",
       "<td colspan=\"2\"><a class=\"image image-thumbnail\" href=\"https://vignette.wikia.nocookie.net/pokemon/images/d/da/BasculinRedXY.gif/revision/latest?cb=20140812204539\"><img alt=\"BasculinRedXY\" class=\"lzy lzyPlcHld \" data-image-key=\"BasculinRedXY.gif\" data-image-name=\"BasculinRedXY.gif\" data-src=\"https://vignette.wikia.nocookie.net/pokemon/images/d/da/BasculinRedXY.gif/revision/latest?cb=20140812204539\" height=\"56\" onload=\"if(typeof ImgLzy==='object'){ImgLzy.load(this)}\" src=\"data:image/gif;base64,R0lGODlhAQABAIABAAAAAP///yH5BAEAAAEALAAAAAABAAEAQAICTAEAOw%3D%3D\" width=\"71\"/><noscript><img alt=\"BasculinRedXY\" class=\"\" data-image-key=\"BasculinRedXY.gif\" data-image-name=\"BasculinRedXY.gif\" height=\"56\" src=\"https://vignette.wikia.nocookie.net/pokemon/images/d/da/BasculinRedXY.gif/revision/latest?cb=20140812204539\" width=\"71\"/></noscript></a>\n",
       "</td><td colspan=\"2\"><a class=\"image image-thumbnail\" href=\"https://vignette.wikia.nocookie.net/pokemon/images/d/da/BasculinRedXY.gif/revision/latest?cb=20140812204539\"><img alt=\"BasculinRedXY\" class=\"lzy lzyPlcHld \" data-image-key=\"BasculinRedXY.gif\" data-image-name=\"BasculinRedXY.gif\" data-src=\"https://vignette.wikia.nocookie.net/pokemon/images/d/da/BasculinRedXY.gif/revision/latest?cb=20140812204539\" height=\"56\" onload=\"if(typeof ImgLzy==='object'){ImgLzy.load(this)}\" src=\"data:image/gif;base64,R0lGODlhAQABAIABAAAAAP///yH5BAEAAAEALAAAAAABAAEAQAICTAEAOw%3D%3D\" width=\"71\"/><noscript><img alt=\"BasculinRedXY\" class=\"\" data-image-key=\"BasculinRedXY.gif\" data-image-name=\"BasculinRedXY.gif\" height=\"56\" src=\"https://vignette.wikia.nocookie.net/pokemon/images/d/da/BasculinRedXY.gif/revision/latest?cb=20140812204539\" width=\"71\"/></noscript></a>\n",
       "</td><td>\n",
       "</td><td><a class=\"image image-thumbnail\" href=\"https://vignette.wikia.nocookie.net/pokemon/images/3/3e/BasculinRedBackXY.gif/revision/latest?cb=20140812204540\"><img alt=\"BasculinRedBackXY\" class=\"lzy lzyPlcHld \" data-image-key=\"BasculinRedBackXY.gif\" data-image-name=\"BasculinRedBackXY.gif\" data-src=\"https://vignette.wikia.nocookie.net/pokemon/images/3/3e/BasculinRedBackXY.gif/revision/latest?cb=20140812204540\" height=\"58\" onload=\"if(typeof ImgLzy==='object'){ImgLzy.load(this)}\" src=\"data:image/gif;base64,R0lGODlhAQABAIABAAAAAP///yH5BAEAAAEALAAAAAABAAEAQAICTAEAOw%3D%3D\" width=\"69\"/><noscript><img alt=\"BasculinRedBackXY\" class=\"\" data-image-key=\"BasculinRedBackXY.gif\" data-image-name=\"BasculinRedBackXY.gif\" height=\"58\" src=\"https://vignette.wikia.nocookie.net/pokemon/images/3/3e/BasculinRedBackXY.gif/revision/latest?cb=20140812204540\" width=\"69\"/></noscript></a>\n",
       "</td></tr>\n",
       "<tr>\n",
       "<td colspan=\"2\"><a class=\"image image-thumbnail\" href=\"https://vignette.wikia.nocookie.net/pokemon/images/5/5e/BasculinBlueXY.gif/revision/latest?cb=20140812204540\"><img alt=\"BasculinBlueXY\" class=\"lzy lzyPlcHld \" data-image-key=\"BasculinBlueXY.gif\" data-image-name=\"BasculinBlueXY.gif\" data-src=\"https://vignette.wikia.nocookie.net/pokemon/images/5/5e/BasculinBlueXY.gif/revision/latest?cb=20140812204540\" height=\"60\" onload=\"if(typeof ImgLzy==='object'){ImgLzy.load(this)}\" src=\"data:image/gif;base64,R0lGODlhAQABAIABAAAAAP///yH5BAEAAAEALAAAAAABAAEAQAICTAEAOw%3D%3D\" width=\"71\"/><noscript><img alt=\"BasculinBlueXY\" class=\"\" data-image-key=\"BasculinBlueXY.gif\" data-image-name=\"BasculinBlueXY.gif\" height=\"60\" src=\"https://vignette.wikia.nocookie.net/pokemon/images/5/5e/BasculinBlueXY.gif/revision/latest?cb=20140812204540\" width=\"71\"/></noscript></a>\n",
       "</td><td colspan=\"2\"><a class=\"image image-thumbnail\" href=\"https://vignette.wikia.nocookie.net/pokemon/images/5/5e/BasculinBlueXY.gif/revision/latest?cb=20140812204540\"><img alt=\"BasculinBlueXY\" class=\"lzy lzyPlcHld \" data-image-key=\"BasculinBlueXY.gif\" data-image-name=\"BasculinBlueXY.gif\" data-src=\"https://vignette.wikia.nocookie.net/pokemon/images/5/5e/BasculinBlueXY.gif/revision/latest?cb=20140812204540\" height=\"60\" onload=\"if(typeof ImgLzy==='object'){ImgLzy.load(this)}\" src=\"data:image/gif;base64,R0lGODlhAQABAIABAAAAAP///yH5BAEAAAEALAAAAAABAAEAQAICTAEAOw%3D%3D\" width=\"71\"/><noscript><img alt=\"BasculinBlueXY\" class=\"\" data-image-key=\"BasculinBlueXY.gif\" data-image-name=\"BasculinBlueXY.gif\" height=\"60\" src=\"https://vignette.wikia.nocookie.net/pokemon/images/5/5e/BasculinBlueXY.gif/revision/latest?cb=20140812204540\" width=\"71\"/></noscript></a>\n",
       "</td><td>\n",
       "</td><td><a class=\"image image-thumbnail\" href=\"https://vignette.wikia.nocookie.net/pokemon/images/b/b5/BasculinBlueBackXY.gif/revision/latest?cb=20140812204541\"><img alt=\"BasculinBlueBackXY\" class=\"lzy lzyPlcHld \" data-image-key=\"BasculinBlueBackXY.gif\" data-image-name=\"BasculinBlueBackXY.gif\" data-src=\"https://vignette.wikia.nocookie.net/pokemon/images/b/b5/BasculinBlueBackXY.gif/revision/latest?cb=20140812204541\" height=\"65\" onload=\"if(typeof ImgLzy==='object'){ImgLzy.load(this)}\" src=\"data:image/gif;base64,R0lGODlhAQABAIABAAAAAP///yH5BAEAAAEALAAAAAABAAEAQAICTAEAOw%3D%3D\" width=\"69\"/><noscript><img alt=\"BasculinBlueBackXY\" class=\"\" data-image-key=\"BasculinBlueBackXY.gif\" data-image-name=\"BasculinBlueBackXY.gif\" height=\"65\" src=\"https://vignette.wikia.nocookie.net/pokemon/images/b/b5/BasculinBlueBackXY.gif/revision/latest?cb=20140812204541\" width=\"69\"/></noscript></a>\n",
       "</td></tr>\n",
       "<tr>\n",
       "<td colspan=\"2\"><a class=\"image image-thumbnail\" href=\"https://vignette.wikia.nocookie.net/pokemon/images/2/2c/BasculinRedShinyXY.gif/revision/latest?cb=20140812204544\"><img alt=\"BasculinRedShinyXY\" class=\"lzy lzyPlcHld \" data-image-key=\"BasculinRedShinyXY.gif\" data-image-name=\"BasculinRedShinyXY.gif\" data-src=\"https://vignette.wikia.nocookie.net/pokemon/images/2/2c/BasculinRedShinyXY.gif/revision/latest?cb=20140812204544\" height=\"56\" onload=\"if(typeof ImgLzy==='object'){ImgLzy.load(this)}\" src=\"data:image/gif;base64,R0lGODlhAQABAIABAAAAAP///yH5BAEAAAEALAAAAAABAAEAQAICTAEAOw%3D%3D\" width=\"71\"/><noscript><img alt=\"BasculinRedShinyXY\" class=\"\" data-image-key=\"BasculinRedShinyXY.gif\" data-image-name=\"BasculinRedShinyXY.gif\" height=\"56\" src=\"https://vignette.wikia.nocookie.net/pokemon/images/2/2c/BasculinRedShinyXY.gif/revision/latest?cb=20140812204544\" width=\"71\"/></noscript></a>\n",
       "</td><td colspan=\"2\"><a class=\"image image-thumbnail\" href=\"https://vignette.wikia.nocookie.net/pokemon/images/2/2c/BasculinRedShinyXY.gif/revision/latest?cb=20140812204544\"><img alt=\"BasculinRedShinyXY\" class=\"lzy lzyPlcHld \" data-image-key=\"BasculinRedShinyXY.gif\" data-image-name=\"BasculinRedShinyXY.gif\" data-src=\"https://vignette.wikia.nocookie.net/pokemon/images/2/2c/BasculinRedShinyXY.gif/revision/latest?cb=20140812204544\" height=\"56\" onload=\"if(typeof ImgLzy==='object'){ImgLzy.load(this)}\" src=\"data:image/gif;base64,R0lGODlhAQABAIABAAAAAP///yH5BAEAAAEALAAAAAABAAEAQAICTAEAOw%3D%3D\" width=\"71\"/><noscript><img alt=\"BasculinRedShinyXY\" class=\"\" data-image-key=\"BasculinRedShinyXY.gif\" data-image-name=\"BasculinRedShinyXY.gif\" height=\"56\" src=\"https://vignette.wikia.nocookie.net/pokemon/images/2/2c/BasculinRedShinyXY.gif/revision/latest?cb=20140812204544\" width=\"71\"/></noscript></a>\n",
       "</td><td>\n",
       "</td><td><a class=\"image image-thumbnail\" href=\"https://vignette.wikia.nocookie.net/pokemon/images/a/ac/BasculinRedBackShinyXY.gif/revision/latest?cb=20140812204545\"><img alt=\"BasculinRedBackShinyXY\" class=\"lzy lzyPlcHld \" data-image-key=\"BasculinRedBackShinyXY.gif\" data-image-name=\"BasculinRedBackShinyXY.gif\" data-src=\"https://vignette.wikia.nocookie.net/pokemon/images/a/ac/BasculinRedBackShinyXY.gif/revision/latest?cb=20140812204545\" height=\"58\" onload=\"if(typeof ImgLzy==='object'){ImgLzy.load(this)}\" src=\"data:image/gif;base64,R0lGODlhAQABAIABAAAAAP///yH5BAEAAAEALAAAAAABAAEAQAICTAEAOw%3D%3D\" width=\"69\"/><noscript><img alt=\"BasculinRedBackShinyXY\" class=\"\" data-image-key=\"BasculinRedBackShinyXY.gif\" data-image-name=\"BasculinRedBackShinyXY.gif\" height=\"58\" src=\"https://vignette.wikia.nocookie.net/pokemon/images/a/ac/BasculinRedBackShinyXY.gif/revision/latest?cb=20140812204545\" width=\"69\"/></noscript></a>\n",
       "</td></tr>\n",
       "<tr>\n",
       "<td colspan=\"2\"><a class=\"image image-thumbnail\" href=\"https://vignette.wikia.nocookie.net/pokemon/images/0/0d/BasculinBlueShinyXY.gif/revision/latest?cb=20140812204545\"><img alt=\"BasculinBlueShinyXY\" class=\"lzy lzyPlcHld \" data-image-key=\"BasculinBlueShinyXY.gif\" data-image-name=\"BasculinBlueShinyXY.gif\" data-src=\"https://vignette.wikia.nocookie.net/pokemon/images/0/0d/BasculinBlueShinyXY.gif/revision/latest?cb=20140812204545\" height=\"60\" onload=\"if(typeof ImgLzy==='object'){ImgLzy.load(this)}\" src=\"data:image/gif;base64,R0lGODlhAQABAIABAAAAAP///yH5BAEAAAEALAAAAAABAAEAQAICTAEAOw%3D%3D\" width=\"71\"/><noscript><img alt=\"BasculinBlueShinyXY\" class=\"\" data-image-key=\"BasculinBlueShinyXY.gif\" data-image-name=\"BasculinBlueShinyXY.gif\" height=\"60\" src=\"https://vignette.wikia.nocookie.net/pokemon/images/0/0d/BasculinBlueShinyXY.gif/revision/latest?cb=20140812204545\" width=\"71\"/></noscript></a>\n",
       "</td><td colspan=\"2\"><a class=\"image image-thumbnail\" href=\"https://vignette.wikia.nocookie.net/pokemon/images/0/0d/BasculinBlueShinyXY.gif/revision/latest?cb=20140812204545\"><img alt=\"BasculinBlueShinyXY\" class=\"lzy lzyPlcHld \" data-image-key=\"BasculinBlueShinyXY.gif\" data-image-name=\"BasculinBlueShinyXY.gif\" data-src=\"https://vignette.wikia.nocookie.net/pokemon/images/0/0d/BasculinBlueShinyXY.gif/revision/latest?cb=20140812204545\" height=\"60\" onload=\"if(typeof ImgLzy==='object'){ImgLzy.load(this)}\" src=\"data:image/gif;base64,R0lGODlhAQABAIABAAAAAP///yH5BAEAAAEALAAAAAABAAEAQAICTAEAOw%3D%3D\" width=\"71\"/><noscript><img alt=\"BasculinBlueShinyXY\" class=\"\" data-image-key=\"BasculinBlueShinyXY.gif\" data-image-name=\"BasculinBlueShinyXY.gif\" height=\"60\" src=\"https://vignette.wikia.nocookie.net/pokemon/images/0/0d/BasculinBlueShinyXY.gif/revision/latest?cb=20140812204545\" width=\"71\"/></noscript></a>\n",
       "</td><td>\n",
       "</td><td><a class=\"image image-thumbnail\" href=\"https://vignette.wikia.nocookie.net/pokemon/images/3/37/BasculinBlueBackShinyXY.gif/revision/latest?cb=20140812204545\"><img alt=\"BasculinBlueBackShinyXY\" class=\"lzy lzyPlcHld \" data-image-key=\"BasculinBlueBackShinyXY.gif\" data-image-name=\"BasculinBlueBackShinyXY.gif\" data-src=\"https://vignette.wikia.nocookie.net/pokemon/images/3/37/BasculinBlueBackShinyXY.gif/revision/latest?cb=20140812204545\" height=\"65\" onload=\"if(typeof ImgLzy==='object'){ImgLzy.load(this)}\" src=\"data:image/gif;base64,R0lGODlhAQABAIABAAAAAP///yH5BAEAAAEALAAAAAABAAEAQAICTAEAOw%3D%3D\" width=\"69\"/><noscript><img alt=\"BasculinBlueBackShinyXY\" class=\"\" data-image-key=\"BasculinBlueBackShinyXY.gif\" data-image-name=\"BasculinBlueBackShinyXY.gif\" height=\"65\" src=\"https://vignette.wikia.nocookie.net/pokemon/images/3/37/BasculinBlueBackShinyXY.gif/revision/latest?cb=20140812204545\" width=\"69\"/></noscript></a>\n",
       "</td></tr>\n",
       "<tr>\n",
       "<th style=\"background-color:#FFA500;\"><a href=\"/wiki/Pok%C3%A9mon_Sun_and_Moon\" title=\"Pokémon Sun and Moon\"><span style=\"color:black;\">Sun</span></a>\n",
       "</th><th style=\"background-color:#1E90FF;\"><a href=\"/wiki/Pok%C3%A9mon_Sun_and_Moon\" title=\"Pokémon Sun and Moon\"><span style=\"color:black;\">Moon</span></a>\n",
       "</th><th style=\"background-color:#FFA500;\"><a href=\"/wiki/Pok%C3%A9mon_Ultra_Sun_and_Ultra_Moon\" title=\"Pokémon Ultra Sun and Ultra Moon\"><span style=\"color:black;\">Ultra Sun</span></a>\n",
       "</th><th style=\"background-color:#1E90FF;\"><a href=\"/wiki/Pok%C3%A9mon_Ultra_Sun_and_Ultra_Moon\" title=\"Pokémon Ultra Sun and Ultra Moon\"><span style=\"color:black;\">Ultra Moon</span></a>\n",
       "</th><th style=\"background-color:#5C87ED;\">\n",
       "</th><th style=\"background-color:#5C87ED; color:black;\">Back\n",
       "</th></tr>\n",
       "<tr>\n",
       "<td>\n",
       "</td><td>\n",
       "</td><td>\n",
       "</td></tr>\n",
       "<tr>\n",
       "<td>\n",
       "</td><td>\n",
       "</td><td>\n",
       "</td></tr>\n",
       "<tr>\n",
       "<td>\n",
       "</td><td>\n",
       "</td><td>\n",
       "</td></tr>\n",
       "<tr>\n",
       "<td>\n",
       "</td><td>\n",
       "</td><td>\n",
       "</td></tr></table>"
      ]
     },
     "execution_count": 30,
     "metadata": {},
     "output_type": "execute_result"
    }
   ],
   "source": [
    "table"
   ]
  },
  {
   "cell_type": "code",
   "execution_count": 28,
   "metadata": {},
   "outputs": [],
   "source": [
    "table = soup1.find(id=re.compile(\"Sprites\")).next_element.next_element.next_element"
   ]
  },
  {
   "cell_type": "code",
   "execution_count": 29,
   "metadata": {},
   "outputs": [],
   "source": [
    "trs = table.find_all(\"tr\")"
   ]
  },
  {
   "cell_type": "code",
   "execution_count": 37,
   "metadata": {},
   "outputs": [
    {
     "name": "stdout",
     "output_type": "stream",
     "text": [
      "afoij\n",
      "<tr>\n",
      "<td colspan=\"2\"><a class=\"image image-thumbnail\" href=\"https://vignette.wikia.nocookie.net/pokemon/images/d/da/BasculinRedXY.gif/revision/latest?cb=20140812204539\"><img alt=\"BasculinRedXY\" class=\"lzy lzyPlcHld \" data-image-key=\"BasculinRedXY.gif\" data-image-name=\"BasculinRedXY.gif\" data-src=\"https://vignette.wikia.nocookie.net/pokemon/images/d/da/BasculinRedXY.gif/revision/latest?cb=20140812204539\" height=\"56\" onload=\"if(typeof ImgLzy==='object'){ImgLzy.load(this)}\" src=\"data:image/gif;base64,R0lGODlhAQABAIABAAAAAP///yH5BAEAAAEALAAAAAABAAEAQAICTAEAOw%3D%3D\" width=\"71\"/><noscript><img alt=\"BasculinRedXY\" class=\"\" data-image-key=\"BasculinRedXY.gif\" data-image-name=\"BasculinRedXY.gif\" height=\"56\" src=\"https://vignette.wikia.nocookie.net/pokemon/images/d/da/BasculinRedXY.gif/revision/latest?cb=20140812204539\" width=\"71\"/></noscript></a>\n",
      "</td><td colspan=\"2\"><a class=\"image image-thumbnail\" href=\"https://vignette.wikia.nocookie.net/pokemon/images/d/da/BasculinRedXY.gif/revision/latest?cb=20140812204539\"><img alt=\"BasculinRedXY\" class=\"lzy lzyPlcHld \" data-image-key=\"BasculinRedXY.gif\" data-image-name=\"BasculinRedXY.gif\" data-src=\"https://vignette.wikia.nocookie.net/pokemon/images/d/da/BasculinRedXY.gif/revision/latest?cb=20140812204539\" height=\"56\" onload=\"if(typeof ImgLzy==='object'){ImgLzy.load(this)}\" src=\"data:image/gif;base64,R0lGODlhAQABAIABAAAAAP///yH5BAEAAAEALAAAAAABAAEAQAICTAEAOw%3D%3D\" width=\"71\"/><noscript><img alt=\"BasculinRedXY\" class=\"\" data-image-key=\"BasculinRedXY.gif\" data-image-name=\"BasculinRedXY.gif\" height=\"56\" src=\"https://vignette.wikia.nocookie.net/pokemon/images/d/da/BasculinRedXY.gif/revision/latest?cb=20140812204539\" width=\"71\"/></noscript></a>\n",
      "</td><td>\n",
      "</td><td><a class=\"image image-thumbnail\" href=\"https://vignette.wikia.nocookie.net/pokemon/images/3/3e/BasculinRedBackXY.gif/revision/latest?cb=20140812204540\"><img alt=\"BasculinRedBackXY\" class=\"lzy lzyPlcHld \" data-image-key=\"BasculinRedBackXY.gif\" data-image-name=\"BasculinRedBackXY.gif\" data-src=\"https://vignette.wikia.nocookie.net/pokemon/images/3/3e/BasculinRedBackXY.gif/revision/latest?cb=20140812204540\" height=\"58\" onload=\"if(typeof ImgLzy==='object'){ImgLzy.load(this)}\" src=\"data:image/gif;base64,R0lGODlhAQABAIABAAAAAP///yH5BAEAAAEALAAAAAABAAEAQAICTAEAOw%3D%3D\" width=\"69\"/><noscript><img alt=\"BasculinRedBackXY\" class=\"\" data-image-key=\"BasculinRedBackXY.gif\" data-image-name=\"BasculinRedBackXY.gif\" height=\"58\" src=\"https://vignette.wikia.nocookie.net/pokemon/images/3/3e/BasculinRedBackXY.gif/revision/latest?cb=20140812204540\" width=\"69\"/></noscript></a>\n",
      "</td></tr>\n"
     ]
    }
   ],
   "source": [
    "for tr in trs:\n",
    "    if tr.find(\"a\",{\"title\":\"Pokémon X and Y\"}) != None:\n",
    "        print(\"afoij\")\n",
    "        print(tr.next_sibling.next_sibling)"
   ]
  },
  {
   "cell_type": "code",
   "execution_count": null,
   "metadata": {},
   "outputs": [],
   "source": []
  },
  {
   "cell_type": "code",
   "execution_count": null,
   "metadata": {},
   "outputs": [],
   "source": []
  },
  {
   "cell_type": "code",
   "execution_count": null,
   "metadata": {},
   "outputs": [],
   "source": []
  },
  {
   "cell_type": "code",
   "execution_count": null,
   "metadata": {},
   "outputs": [],
   "source": []
  }
 ],
 "metadata": {
  "kernelspec": {
   "display_name": "Python 3",
   "language": "python",
   "name": "python3"
  },
  "language_info": {
   "codemirror_mode": {
    "name": "ipython",
    "version": 3
   },
   "file_extension": ".py",
   "mimetype": "text/x-python",
   "name": "python",
   "nbconvert_exporter": "python",
   "pygments_lexer": "ipython3",
   "version": "3.6.4"
  }
 },
 "nbformat": 4,
 "nbformat_minor": 2
}
