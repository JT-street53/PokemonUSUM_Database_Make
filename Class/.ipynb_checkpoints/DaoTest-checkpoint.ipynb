{
 "cells": [
  {
   "cell_type": "code",
   "execution_count": 12,
   "metadata": {},
   "outputs": [],
   "source": [
    "import mysql.connector\n",
    "import entities\n",
    "import os"
   ]
  },
  {
   "cell_type": "code",
   "execution_count": 6,
   "metadata": {},
   "outputs": [],
   "source": [
    "class Connector(object):\n",
    "    \n",
    "    def __init__(self, account):\n",
    "        self.account = account\n",
    "    \n",
    "    def __enter__(self):\n",
    "        os.system(\"mysql.server start\")\n",
    "        self.connect = mysql.connector.connect(\n",
    "            db      = self.account[\"db\"],\n",
    "            host    = self.account[\"host\"],\n",
    "            user    = self.account[\"user\"],\n",
    "            passwd  = self.account[\"passwd\"],\n",
    "            charset = \"utf8\")\n",
    "        return self.connect\n",
    "\n",
    "    def __exit__(self, exception_type, exception_value, traceback):\n",
    "        self.connect.close()\n",
    "        os.system(\"mysql.server stop\")\n",
    "        \n",
    "class Cursor(object):\n",
    "    \n",
    "    def __init__(self, connection):\n",
    "        self.connection = connection\n",
    "    \n",
    "    def __enter__(self):\n",
    "        return self.connection.cursor(buffered=True)\n",
    "    \n",
    "    def __exit__(self, exception_type, exception_value, traceback):\n",
    "        if exception_type:\n",
    "            self.connection.rollback()\n",
    "        else:\n",
    "            self.connection.commit()"
   ]
  },
  {
   "cell_type": "code",
   "execution_count": null,
   "metadata": {},
   "outputs": [],
   "source": []
  },
  {
   "cell_type": "code",
   "execution_count": 13,
   "metadata": {},
   "outputs": [
    {
     "name": "stdout",
     "output_type": "stream",
     "text": [
      "(None,)\n"
     ]
    }
   ],
   "source": [
    "script = \"SELECT english_name FROM pokemon WHERE dex_number = 172\"\n",
    "with Connector(entities.Dao.ACCOUNT) as connect:\n",
    "    with Cursor(connect) as cursor:\n",
    "        cursor.execute(script)\n",
    "        result = cursor.fetchone()\n",
    "print(result)"
   ]
  },
  {
   "cell_type": "code",
   "execution_count": null,
   "metadata": {},
   "outputs": [],
   "source": []
  }
 ],
 "metadata": {
  "kernelspec": {
   "display_name": "Python 2",
   "language": "python",
   "name": "python2"
  },
  "language_info": {
   "codemirror_mode": {
    "name": "ipython",
    "version": 2
   },
   "file_extension": ".py",
   "mimetype": "text/x-python",
   "name": "python",
   "nbconvert_exporter": "python",
   "pygments_lexer": "ipython2",
   "version": "2.7.14"
  }
 },
 "nbformat": 4,
 "nbformat_minor": 2
}
