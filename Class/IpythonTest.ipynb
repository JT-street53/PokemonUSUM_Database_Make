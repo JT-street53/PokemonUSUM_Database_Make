{
 "cells": [
  {
   "cell_type": "code",
   "execution_count": 1,
   "metadata": {},
   "outputs": [],
   "source": [
    "import bean\n",
    "import re\n",
    "import mysql.connector\n",
    "import os\n",
    "import requests\n",
    "from bs4 import BeautifulSoup\n",
    "import entities"
   ]
  },
  {
   "cell_type": "code",
   "execution_count": 2,
   "metadata": {},
   "outputs": [],
   "source": [
    "def getSoupFromURL(url):\n",
    "    response = requests.get(url)\n",
    "    soup = BeautifulSoup(response.content, \"html.parser\")\n",
    "    return soup"
   ]
  },
  {
   "cell_type": "code",
   "execution_count": 3,
   "metadata": {},
   "outputs": [],
   "source": [
    "soup1 = getSoupFromURL(\"http://pokemon.wikia.com/wiki/Quilladin\")\n",
    "soup2 = getSoupFromURL(\"http://pokemon.wikia.com/wiki/Rotom\")"
   ]
  },
  {
   "cell_type": "code",
   "execution_count": 4,
   "metadata": {},
   "outputs": [
    {
     "name": "stdout",
     "output_type": "stream",
     "text": [
      "<img alt=\"QuilladinSpriteBackShiny XY\" class=\"lzy lzyPlcHld \" data-image-key=\"QuilladinSpriteBackShiny_XY.gif\" data-image-name=\"QuilladinSpriteBackShiny XY.gif\" data-src=\"https://vignette.wikia.nocookie.net/pokemon/images/c/c2/QuilladinSpriteBackShiny_XY.gif/revision/latest?cb=20140710235949\" height=\"67\" onload=\"if(typeof ImgLzy==='object'){ImgLzy.load(this)}\" src=\"data:image/gif;base64,R0lGODlhAQABAIABAAAAAP///yH5BAEAAAEALAAAAAABAAEAQAICTAEAOw%3D%3D\" width=\"69\"/>\n",
      "<img alt=\"QuilladinSpriteBackShiny XY\" class=\"\" data-image-key=\"QuilladinSpriteBackShiny_XY.gif\" data-image-name=\"QuilladinSpriteBackShiny XY.gif\" height=\"67\" src=\"https://vignette.wikia.nocookie.net/pokemon/images/c/c2/QuilladinSpriteBackShiny_XY.gif/revision/latest?cb=20140710235949\" width=\"69\"/>\n"
     ]
    }
   ],
   "source": [
    "imgs = soup1.find_all(\"img\")\n",
    "for img in imgs:\n",
    "    if img.get(\"alt\") != None:\n",
    "        if \"Shiny\" in img.get(\"alt\"):\n",
    "            if \"XY\" in img.get(\"alt\") or \"SM\" in img.get(\"alt\") or \"USUM\" in img.get(\"alt\"):\n",
    "                print(img)"
   ]
  },
  {
   "cell_type": "code",
   "execution_count": 5,
   "metadata": {},
   "outputs": [
    {
     "ename": "AttributeError",
     "evalue": "'NoneType' object has no attribute 'next_element'",
     "output_type": "error",
     "traceback": [
      "\u001b[0;31m---------------------------------------------------------------------------\u001b[0m",
      "\u001b[0;31mAttributeError\u001b[0m                            Traceback (most recent call last)",
      "\u001b[0;32m<ipython-input-5-799c156fc398>\u001b[0m in \u001b[0;36m<module>\u001b[0;34m()\u001b[0m\n\u001b[0;32m----> 1\u001b[0;31m \u001b[0mtable\u001b[0m \u001b[0;34m=\u001b[0m \u001b[0msoup1\u001b[0m\u001b[0;34m.\u001b[0m\u001b[0mfind\u001b[0m\u001b[0;34m(\u001b[0m\u001b[0mid\u001b[0m\u001b[0;34m=\u001b[0m\u001b[0mre\u001b[0m\u001b[0;34m.\u001b[0m\u001b[0mcompile\u001b[0m\u001b[0;34m(\u001b[0m\u001b[0;34m\"Sprites\"\u001b[0m\u001b[0;34m)\u001b[0m\u001b[0;34m)\u001b[0m\u001b[0;34m.\u001b[0m\u001b[0mnext_element\u001b[0m\u001b[0;34m.\u001b[0m\u001b[0mnext_element\u001b[0m\u001b[0;34m.\u001b[0m\u001b[0mnext_element\u001b[0m\u001b[0;34m\u001b[0m\u001b[0m\n\u001b[0m",
      "\u001b[0;31mAttributeError\u001b[0m: 'NoneType' object has no attribute 'next_element'"
     ]
    }
   ],
   "source": [
    "table = soup1.find(id=re.compile(\"Sprites\")).next_element.next_element.next_element"
   ]
  },
  {
   "cell_type": "code",
   "execution_count": null,
   "metadata": {},
   "outputs": [],
   "source": []
  },
  {
   "cell_type": "code",
   "execution_count": null,
   "metadata": {},
   "outputs": [],
   "source": []
  },
  {
   "cell_type": "code",
   "execution_count": null,
   "metadata": {},
   "outputs": [],
   "source": []
  },
  {
   "cell_type": "code",
   "execution_count": null,
   "metadata": {},
   "outputs": [],
   "source": []
  },
  {
   "cell_type": "code",
   "execution_count": 1,
   "metadata": {},
   "outputs": [],
   "source": [
    "from selenium import webdriver"
   ]
  },
  {
   "cell_type": "code",
   "execution_count": 6,
   "metadata": {},
   "outputs": [],
   "source": [
    "executable_path = \"/usr/local/bin/chromedriver\"\n",
    "driver = webdriver.Chrome(executable_path)"
   ]
  },
  {
   "cell_type": "code",
   "execution_count": 7,
   "metadata": {},
   "outputs": [],
   "source": [
    "driver.get(\"https://www.google.co.jp/\")"
   ]
  },
  {
   "cell_type": "code",
   "execution_count": null,
   "metadata": {},
   "outputs": [],
   "source": []
  },
  {
   "cell_type": "code",
   "execution_count": null,
   "metadata": {},
   "outputs": [],
   "source": []
  },
  {
   "cell_type": "code",
   "execution_count": null,
   "metadata": {},
   "outputs": [],
   "source": []
  }
 ],
 "metadata": {
  "kernelspec": {
   "display_name": "Python 3",
   "language": "python",
   "name": "python3"
  },
  "language_info": {
   "codemirror_mode": {
    "name": "ipython",
    "version": 3
   },
   "file_extension": ".py",
   "mimetype": "text/x-python",
   "name": "python",
   "nbconvert_exporter": "python",
   "pygments_lexer": "ipython3",
   "version": "3.6.4"
  }
 },
 "nbformat": 4,
 "nbformat_minor": 2
}
